{
 "cells": [
  {
   "cell_type": "code",
   "execution_count": 62,
   "id": "3da2cae2",
   "metadata": {},
   "outputs": [],
   "source": [
    "import math\n",
    "import random\n",
    "from collections import defaultdict\n",
    "import json\n",
    "from sklearn import linear_model\n",
    "import sklearn\n",
    "import csv\n",
    "import gzip\n",
    "import string\n",
    "import copy\n",
    "import scipy\n",
    "from implicit import bpr"
   ]
  },
  {
   "cell_type": "code",
   "execution_count": 63,
   "id": "d439cb8a",
   "metadata": {},
   "outputs": [],
   "source": [
    "#Helpful functions\n",
    "def readGz(path):\n",
    "    for l in gzip.open(path, 'rb'):\n",
    "        yield eval(l)"
   ]
  },
  {
   "cell_type": "code",
   "execution_count": 64,
   "id": "98daec68",
   "metadata": {},
   "outputs": [],
   "source": [
    "#Exploring the data\n",
    "reviewSmall = [] #Users and a list of games they have reviewed; Size: 25799\n",
    "userToItem = [] #Users and a list of games they have downloaded; Size: 50000\n",
    "#User id's ^ directly correlated \n",
    "\n",
    "reviewBig = [] #Random assortment of reviews; Size: 50000\n",
    "itemMetaData = [] #Data about each individual game; Size: 15,474\n",
    "bundleData = [] #Data about each bundle; Size: 615\n",
    "\n",
    "i = 0\n",
    "for d in readGz('australian_user_reviews.json.gz'):\n",
    "    if i < 50000:\n",
    "        reviewSmall.append(d)\n",
    "    else:\n",
    "        break\n",
    "    i+=1\n",
    "\n",
    "i = 0\n",
    "for d in readGz('australian_users_items.json.gz'):\n",
    "    if i < 50000:\n",
    "        userToItem.append(d)\n",
    "    else:\n",
    "        break\n",
    "    i+=1\n",
    "\n",
    "i = 0\n",
    "for d in readGz('bundle_data.json.gz'):\n",
    "    if i < 50000:\n",
    "        bundleData.append(d)\n",
    "    else:\n",
    "        break\n",
    "    i+=1\n",
    "\n",
    "i = 0\n",
    "for d in readGz('steam_games.json.gz'):\n",
    "    \n",
    "    if i < 50000:\n",
    "        itemMetaData.append(d)\n",
    "    else:\n",
    "        break\n",
    "    i+=1\n",
    "\n",
    "i = 0\n",
    "for d in readGz('steam_reviews.json.gz'):\n",
    "    if i < 50000:\n",
    "        reviewBig.append(d)\n",
    "    else:\n",
    "        break\n",
    "    i+=1"
   ]
  },
  {
   "cell_type": "code",
   "execution_count": 83,
   "id": "89a3df32",
   "metadata": {},
   "outputs": [
    {
     "data": {
      "text/plain": [
       "{'user_id': 'doctr',\n",
       " 'user_url': 'http://steamcommunity.com/id/doctr',\n",
       " 'reviews': [{'funny': '',\n",
       "   'posted': 'Posted October 14, 2013.',\n",
       "   'last_edited': '',\n",
       "   'item_id': '250320',\n",
       "   'helpful': '2 of 2 people (100%) found this review helpful',\n",
       "   'recommend': True,\n",
       "   'review': 'This game... is so fun. The fight sequences have been improved from walking dead. It also includes more of a Sam and Max puzzle solving (some of it in the first episode) and walking dead. The game also gets even more better if you have read the Fables comic books, which are without a doubt, very good. The music is also superb and fit the scenarios very well.'},\n",
       "  {'funny': '',\n",
       "   'posted': 'Posted July 28, 2012.',\n",
       "   'last_edited': '',\n",
       "   'item_id': '20920',\n",
       "   'helpful': '1 of 1 people (100%) found this review helpful',\n",
       "   'recommend': True,\n",
       "   'review': \"Really Really Really Great Game, very good story, im in chapter 1 atm and i think its great. You get a really early link with characters. No need to play the first game, its nicely wrapped up for you in a five minute video. FYI beware of the sex scenes :P, nudity does happen in the game and it shows you actually having sex, so try not to play with your parents around if your near a point in the story. Also you will need a good rig/comp to play on high. Don't even try running the game on Ultra unless you have mulitiple GPU's (Graphics card) and ram and a good processor. All in all good game :D\"},\n",
       "  {'funny': '',\n",
       "   'posted': 'Posted June 2, 2012.',\n",
       "   'last_edited': '',\n",
       "   'item_id': '204100',\n",
       "   'helpful': '1 of 1 people (100%) found this review helpful',\n",
       "   'recommend': True,\n",
       "   'review': 'Just buy it already. Great Story, Great Multiplayer and good fan service. Just awesome game. Just using shootdodge and bullet time makes you feel like a badass. Also, its better if you get the max payne story recapped or replay the first two but its not necessary.'},\n",
       "  {'funny': '',\n",
       "   'posted': 'Posted June 29, 2014.',\n",
       "   'last_edited': '',\n",
       "   'item_id': '224600',\n",
       "   'helpful': '1 of 2 people (50%) found this review helpful',\n",
       "   'recommend': True,\n",
       "   'review': 'It was a great game from what I played, right now I need to find the actual download.'},\n",
       "  {'funny': '',\n",
       "   'posted': 'Posted November 22, 2012.',\n",
       "   'last_edited': '',\n",
       "   'item_id': '207610',\n",
       "   'helpful': 'No ratings yet',\n",
       "   'recommend': True,\n",
       "   'review': \"The ending to this game is.... ♥♥♥♥♥♥♥.... Just buy it, you'll be invested, im automatically preordering season two of the walking dead game.\"},\n",
       "  {'funny': '',\n",
       "   'posted': 'Posted February 23, 2012.',\n",
       "   'last_edited': '',\n",
       "   'item_id': '108710',\n",
       "   'helpful': 'No ratings yet',\n",
       "   'recommend': True,\n",
       "   'review': 'Alan wake is a really good game, the light effects are pretty awesome and this game is so good, it paid back remedy their promotion and conversion fees in the first two days on steam. Its awesome :D. Remedy can still make video games, even if its not Max Payne. It is also very character driven.'}]}"
      ]
     },
     "execution_count": 83,
     "metadata": {},
     "output_type": "execute_result"
    }
   ],
   "source": [
    "reviewSmall[3]"
   ]
  },
  {
   "cell_type": "code",
   "execution_count": 88,
   "id": "b4183800",
   "metadata": {},
   "outputs": [
    {
     "data": {
      "text/plain": [
       "{'user_id': 'evcentric',\n",
       " 'items_count': 137,\n",
       " 'steam_id': '76561198007712555',\n",
       " 'user_url': 'http://steamcommunity.com/id/evcentric',\n",
       " 'items': [{'item_id': '466170',\n",
       "   'item_name': 'Idling to Rule the Gods',\n",
       "   'playtime_forever': 28545,\n",
       "   'playtime_2weeks': 1554},\n",
       "  {'item_id': '224500',\n",
       "   'item_name': 'Gnomoria',\n",
       "   'playtime_forever': 13618,\n",
       "   'playtime_2weeks': 0},\n",
       "  {'item_id': '22380',\n",
       "   'item_name': 'Fallout: New Vegas',\n",
       "   'playtime_forever': 11311,\n",
       "   'playtime_2weeks': 0}]}"
      ]
     },
     "execution_count": 88,
     "metadata": {},
     "output_type": "execute_result"
    }
   ],
   "source": [
    "userToItem[2]"
   ]
  },
  {
   "cell_type": "code",
   "execution_count": 15,
   "id": "619b67dc",
   "metadata": {},
   "outputs": [
    {
     "data": {
      "text/plain": [
       "{'username': '₮ʜᴇ Wᴀʀᴛᴏɴ',\n",
       " 'hours': 51.1,\n",
       " 'products': 769,\n",
       " 'product_id': '328100',\n",
       " 'page_order': 0,\n",
       " 'date': '2017-12-27',\n",
       " 'text': 'looks like a facebook game',\n",
       " 'early_access': False,\n",
       " 'page': 1}"
      ]
     },
     "execution_count": 15,
     "metadata": {},
     "output_type": "execute_result"
    }
   ],
   "source": [
    "reviewBig[1]"
   ]
  },
  {
   "cell_type": "code",
   "execution_count": 16,
   "id": "8fc1c499",
   "metadata": {},
   "outputs": [
    {
     "data": {
      "text/plain": [
       "{'publisher': 'Kotoshiro',\n",
       " 'genres': ['Action', 'Casual', 'Indie', 'Simulation', 'Strategy'],\n",
       " 'app_name': 'Lost Summoner Kitty',\n",
       " 'title': 'Lost Summoner Kitty',\n",
       " 'url': 'http://store.steampowered.com/app/761140/Lost_Summoner_Kitty/',\n",
       " 'release_date': '2018-01-04',\n",
       " 'tags': ['Strategy', 'Action', 'Indie', 'Casual', 'Simulation'],\n",
       " 'discount_price': 4.49,\n",
       " 'reviews_url': 'http://steamcommunity.com/app/761140/reviews/?browsefilter=mostrecent&p=1',\n",
       " 'specs': ['Single-player'],\n",
       " 'price': 4.99,\n",
       " 'early_access': False,\n",
       " 'id': '761140',\n",
       " 'developer': 'Kotoshiro'}"
      ]
     },
     "execution_count": 16,
     "metadata": {},
     "output_type": "execute_result"
    }
   ],
   "source": [
    "itemMetaData[0]"
   ]
  },
  {
   "cell_type": "code",
   "execution_count": 95,
   "id": "e5788d8c",
   "metadata": {},
   "outputs": [
    {
     "data": {
      "text/plain": [
       "{'bundle_final_price': '$21.23',\n",
       " 'bundle_url': 'http://store.steampowered.com/bundle/1100/?utm_source=SteamDB&utm_medium=SteamDB&utm_campaign=SteamDB%20Bundles%20Page',\n",
       " 'bundle_price': '$24.98',\n",
       " 'bundle_name': 'New World Collection',\n",
       " 'bundle_id': '1100',\n",
       " 'items': [{'genre': 'Action, Indie, Strategy',\n",
       "   'item_id': '222880',\n",
       "   'discounted_price': '$4.99',\n",
       "   'item_url': 'http://store.steampowered.com/app/222880',\n",
       "   'item_name': 'Insurgency'},\n",
       "  {'genre': 'Action, Indie, Strategy, Early Access',\n",
       "   'item_id': '447820',\n",
       "   'discounted_price': '$19.99',\n",
       "   'item_url': 'http://store.steampowered.com/app/447820',\n",
       "   'item_name': 'Day of Infamy'}],\n",
       " 'bundle_discount': '15%'}"
      ]
     },
     "execution_count": 95,
     "metadata": {},
     "output_type": "execute_result"
    }
   ],
   "source": [
    "bundleData[100]"
   ]
  },
  {
   "cell_type": "code",
   "execution_count": null,
   "id": "ae36f994",
   "metadata": {},
   "outputs": [],
   "source": [
    "#Predict whether user will buy a bundle based on user features, item features, bundle features (ex. discount), similarity scores? \n",
    "#^^^ All in a feature vector ^^^\n",
    "\n",
    "#Our first task should be how to find out how to check if a user has bought a bundle; maybe assume that if user has bought\n",
    "#every game in bundle, then user has bought that bundle"
   ]
  },
  {
   "cell_type": "code",
   "execution_count": 79,
   "id": "92f43fff",
   "metadata": {},
   "outputs": [],
   "source": [
    "userTop3 = [d for d in userToItem] #Every user's top 3 items\n",
    "for d in userTop3:\n",
    "    items = [i for i in d['items']]\n",
    "    items.sort(key=lambda x: x['playtime_forever'], reverse = True)\n",
    "    d['items'] = items[:3]"
   ]
  },
  {
   "cell_type": "code",
   "execution_count": 96,
   "id": "1b680045",
   "metadata": {},
   "outputs": [
    {
     "data": {
      "text/plain": [
       "{'user_id': 'DefMind',\n",
       " 'items_count': 44,\n",
       " 'steam_id': '76561198131540855',\n",
       " 'user_url': 'http://steamcommunity.com/id/DefMind',\n",
       " 'items': [{'item_id': '304930',\n",
       "   'item_name': 'Unturned',\n",
       "   'playtime_forever': 2018,\n",
       "   'playtime_2weeks': 73},\n",
       "  {'item_id': '243870',\n",
       "   'item_name': \"Tom Clancy's Ghost Recon Phantoms - NA\",\n",
       "   'playtime_forever': 574,\n",
       "   'playtime_2weeks': 0},\n",
       "  {'item_id': '4000',\n",
       "   'item_name': \"Garry's Mod\",\n",
       "   'playtime_forever': 481,\n",
       "   'playtime_2weeks': 481}]}"
      ]
     },
     "execution_count": 96,
     "metadata": {},
     "output_type": "execute_result"
    }
   ],
   "source": [
    "userTop3[25000]"
   ]
  }
 ],
 "metadata": {
  "kernelspec": {
   "display_name": "Python 3 (ipykernel)",
   "language": "python",
   "name": "python3"
  },
  "language_info": {
   "codemirror_mode": {
    "name": "ipython",
    "version": 3
   },
   "file_extension": ".py",
   "mimetype": "text/x-python",
   "name": "python",
   "nbconvert_exporter": "python",
   "pygments_lexer": "ipython3",
   "version": "3.9.7"
  }
 },
 "nbformat": 4,
 "nbformat_minor": 5
}

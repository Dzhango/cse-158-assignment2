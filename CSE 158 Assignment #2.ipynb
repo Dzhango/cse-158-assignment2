{
 "cells": [
  {
   "cell_type": "code",
   "execution_count": 70,
   "id": "3da2cae2",
   "metadata": {},
   "outputs": [],
   "source": [
    "import math\n",
    "import random\n",
    "import json\n",
    "from sklearn import linear_model\n",
    "import sklearn\n",
    "import csv\n",
    "import gzip\n",
    "import string\n",
    "import copy\n",
    "import scipy\n",
    "import pandas as pd\n",
    "import numpy as np\n",
    "from collections import defaultdict\n",
    "from sklearn.model_selection import train_test_split"
   ]
  },
  {
   "cell_type": "code",
   "execution_count": 71,
   "id": "d439cb8a",
   "metadata": {},
   "outputs": [],
   "source": [
    "#Helpful functions\n",
    "def readGz(path):\n",
    "    for l in gzip.open(path, 'rb'):\n",
    "        yield eval(l)"
   ]
  },
  {
   "cell_type": "code",
   "execution_count": 72,
   "id": "98daec68",
   "metadata": {},
   "outputs": [],
   "source": [
    "#Exploring the data\n",
    "reviewSmall = [] #Users and a list of games they have reviewed\n",
    "userToItem = [] #Users and a list of games they have downloaded\n",
    "#User id's ^ directly correlated \n",
    "\n",
    "reviewBig = [] #Random assortment of reviews \n",
    "itemMetaData = [] #Data about each individual game\n",
    "bundleData = [] #Data about each bundle\n",
    "for d in readGz('../australian_user_reviews.json.gz'):\n",
    "    reviewSmall.append(d)\n",
    "    \n",
    "for d in readGz('../australian_users_items.json.gz'):\n",
    "    userToItem.append(d)\n",
    "    \n",
    "for d in readGz('../bundle_data.json.gz'):\n",
    "    bundleData.append(d)\n",
    "    \n",
    "for d in readGz('../steam_games.json.gz'):\n",
    "    itemMetaData.append(d)\n",
    "\n",
    "# i = 0\n",
    "# for d in readGz('../steam_reviews.json.gz'):\n",
    "#     if i < 50000:\n",
    "#         reviewBig.append(d)\n",
    "#     else:\n",
    "#         break\n",
    "#     i+=1"
   ]
  },
  {
   "cell_type": "code",
   "execution_count": 73,
   "id": "3052066f",
   "metadata": {},
   "outputs": [],
   "source": [
    "relevantUserToItem = []\n",
    "for u in userToItem:\n",
    "    if len(u['items'])>=2:\n",
    "        relevantUserToItem.append(u)"
   ]
  },
  {
   "cell_type": "code",
   "execution_count": 74,
   "id": "faa95360",
   "metadata": {},
   "outputs": [],
   "source": [
    "def Jaccard(s1, s2):\n",
    "    numer = len(s1.intersection(s2))\n",
    "    denom = len(s1.union(s2))\n",
    "    if denom == 0:\n",
    "        return 0\n",
    "    return numer / denom"
   ]
  },
  {
   "cell_type": "code",
   "execution_count": 75,
   "id": "941364c7",
   "metadata": {},
   "outputs": [],
   "source": [
    "#Creating train and test sets\n",
    "train=[]\n",
    "test=[]\n",
    "lengths=[]\n",
    "item_lens=[]\n",
    "for user in relevantUserToItem:\n",
    "    items = user['items']\n",
    "    trainIndex = round(0.7*len(items))\n",
    "    item_lens.append(len(items))\n",
    "    lengths.append(len(items)-round(0.7*len(items)))\n",
    "    items_train = items[:trainIndex]\n",
    "    items_test = items[trainIndex:]\n",
    "    objTrain = {'user_id':user['user_id'], 'items': items_train}\n",
    "    objTest = {'user_id':user['user_id'], 'items': items_test}\n",
    "    train.append(objTrain)\n",
    "    test.append(objTest)\n",
    "    "
   ]
  },
  {
   "cell_type": "code",
   "execution_count": 76,
   "id": "bc0c08e2",
   "metadata": {},
   "outputs": [],
   "source": [
    "ItemsForUser=defaultdict(set)\n",
    "for user in train:\n",
    "    for item in user['items']:\n",
    "        ItemsForUser[user['user_id']].add(item['item_id'])"
   ]
  },
  {
   "cell_type": "code",
   "execution_count": 77,
   "id": "2924bbc5",
   "metadata": {},
   "outputs": [],
   "source": [
    "UsersForItem = defaultdict(set)\n",
    "for user in train:\n",
    "    for item in user['items']:\n",
    "        UsersForItem[item['item_id']].add(user['user_id'])"
   ]
  },
  {
   "cell_type": "code",
   "execution_count": 78,
   "id": "9780e770",
   "metadata": {},
   "outputs": [],
   "source": [
    "Top10ItemsForUser=defaultdict(list)\n",
    "for d in train:\n",
    "    user_id = d['user_id']\n",
    "    items = d['items']\n",
    "    items.sort(key=lambda x: x['playtime_forever'], reverse = True)\n",
    "    itemids = [d['item_id'] for d in items]\n",
    "    Top10ItemsForUser[user_id] = itemids[:10]"
   ]
  },
  {
   "cell_type": "code",
   "execution_count": 79,
   "id": "de37b061",
   "metadata": {},
   "outputs": [],
   "source": [
    "def mostSimilar(u, N):\n",
    "    similarities = []\n",
    "    items = set(Top10ItemsForUser[u])\n",
    "    for u2 in ItemsForUser:\n",
    "        if u2 == u: continue\n",
    "        sim = Jaccard(items, set(Top10ItemsForUser[u2]))\n",
    "        #sim = Pearson(i, i2) # Could use alternate similarity metrics straightforwardly\n",
    "        similarities.append((sim,u2))\n",
    "    similarities.sort(reverse=True)\n",
    "#     return similarities[:N]\n",
    "    return [u[1] for u in similarities[:N]]"
   ]
  },
  {
   "cell_type": "code",
   "execution_count": 27,
   "id": "1a211918",
   "metadata": {},
   "outputs": [
    {
     "data": {
      "text/plain": [
       "'js41637'"
      ]
     },
     "execution_count": 27,
     "metadata": {},
     "output_type": "execute_result"
    }
   ],
   "source": [
    "list(Top10ItemsForUser.keys())[1]"
   ]
  },
  {
   "cell_type": "code",
   "execution_count": 28,
   "id": "9858e698",
   "metadata": {},
   "outputs": [
    {
     "data": {
      "text/plain": [
       "['visforveni',\n",
       " 'chocolatecravinghobo',\n",
       " 'carlospicy_weiner',\n",
       " 'Thatishayden',\n",
       " 'R87']"
      ]
     },
     "execution_count": 28,
     "metadata": {},
     "output_type": "execute_result"
    }
   ],
   "source": [
    "mostSimilar('js41637', 5)"
   ]
  },
  {
   "cell_type": "code",
   "execution_count": 103,
   "id": "15bb956d",
   "metadata": {},
   "outputs": [],
   "source": [
    "top5SimilarUsers = defaultdict(list)\n",
    "for d in train[:1000]:\n",
    "    user_id = d['user_id']\n",
    "    top5SimilarUsers[user_id] = mostSimilar(user_id, 5)"
   ]
  },
  {
   "cell_type": "code",
   "execution_count": 104,
   "id": "33068e61",
   "metadata": {},
   "outputs": [],
   "source": [
    "df = pd.DataFrame(top5SimilarUsers)\n",
    "df.to_csv('MostSimilarUsersfirst1000.csv')"
   ]
  },
  {
   "cell_type": "code",
   "execution_count": 105,
   "id": "cb91a41b",
   "metadata": {},
   "outputs": [],
   "source": [
    "ItemsForUserTest=defaultdict(set)\n",
    "for user in test:\n",
    "    for item in user['items']:\n",
    "        ItemsForUserTest[user['user_id']].add(item['item_id'])"
   ]
  },
  {
   "cell_type": "code",
   "execution_count": 106,
   "id": "69324a1b",
   "metadata": {},
   "outputs": [],
   "source": [
    "top5SimilarUsersTest = defaultdict(list)\n",
    "recommendations=[]\n",
    "reclengths = []\n",
    "for d in test[:1000]:\n",
    "    userid = d['user_id']\n",
    "    top5similar = top5SimilarUsers[userid]\n",
    "    top50recs = Top10ItemsForUser[top5similar[0]]+Top10ItemsForUser[top5similar[1]]+Top10ItemsForUser[top5similar[2]]+Top10ItemsForUser[top5similar[3]]+Top10ItemsForUser[top5similar[4]]\n",
    "    potentialrecs = set(top50recs)-ItemsForUser[userid]\n",
    "    reclengths.append(len(potentialrecs))\n",
    "    if len(potentialrecs)>20:\n",
    "        potentialrecs = set(random.sample(potentialrecs, 20))\n",
    "    recommendations.append(potentialrecs)"
   ]
  },
  {
   "cell_type": "code",
   "execution_count": 107,
   "id": "180fbb37",
   "metadata": {},
   "outputs": [],
   "source": [
    "precisions=[]\n",
    "for i, d in enumerate(test[:30]):\n",
    "    currec = recommendations[i]\n",
    "    userid = d['user_id']\n",
    "    userTestItems = ItemsForUserTest[userid]\n",
    "    precisions.append(len(userTestItems.intersection(currec))/len(currec))"
   ]
  },
  {
   "cell_type": "code",
   "execution_count": 108,
   "id": "aaa32732",
   "metadata": {},
   "outputs": [
    {
     "data": {
      "text/plain": [
       "0.4666666666666667"
      ]
     },
     "execution_count": 108,
     "metadata": {},
     "output_type": "execute_result"
    }
   ],
   "source": [
    "np.mean(np.array(precisions)>0)"
   ]
  },
  {
   "cell_type": "code",
   "execution_count": null,
   "id": "e8e24ba2",
   "metadata": {},
   "outputs": [],
   "source": []
  }
 ],
 "metadata": {
  "kernelspec": {
   "display_name": "Python 3 (ipykernel)",
   "language": "python",
   "name": "python3"
  },
  "language_info": {
   "codemirror_mode": {
    "name": "ipython",
    "version": 3
   },
   "file_extension": ".py",
   "mimetype": "text/x-python",
   "name": "python",
   "nbconvert_exporter": "python",
   "pygments_lexer": "ipython3",
   "version": "3.7.9"
  }
 },
 "nbformat": 4,
 "nbformat_minor": 5
}
